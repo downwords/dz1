{
 "cells": [
  {
   "cell_type": "code",
   "execution_count": 21,
   "metadata": {},
   "outputs": [
    {
     "name": "stdout",
     "output_type": "stream",
     "text": [
      "10\n"
     ]
    }
   ],
   "source": [
    "a = 10\n",
    "b = 11\n",
    "c = 21\n",
    "\n",
    "if (c > b):\n",
    "    if (c > a):\n",
    "        maxim = c\n",
    "if (b > c):\n",
    "       if (b > a): \n",
    "        maxim = b\n",
    "else: \n",
    "        maxim = a        \n",
    "        \n",
    "        \n",
    "print (maxim)\n"
   ]
  },
  {
   "cell_type": "code",
   "execution_count": 23,
   "metadata": {},
   "outputs": [
    {
     "name": "stdout",
     "output_type": "stream",
     "text": [
      "Введите командуpass\n",
      "Введите командуdo\n",
      "Введите командуdo3\n"
     ]
    }
   ],
   "source": [
    "while True: \n",
    "    user_input = input('Введите команду')\n",
    "    if user_input == 'do':\n",
    "        pass\n",
    "    elif user_input == 'do2':\n",
    "        pass\n",
    "    elif user_input == 'do3':\n",
    "        break\n",
    "        "
   ]
  },
  {
   "cell_type": "code",
   "execution_count": 30,
   "metadata": {},
   "outputs": [
    {
     "name": "stdout",
     "output_type": "stream",
     "text": [
      "['Jane', 'Kate', 'Linda']\n",
      "None\n",
      "['John', 'James', 'Kyle']\n",
      "['James', 'John', 'Kyle']\n"
     ]
    }
   ],
   "source": [
    "# изменяемые типы данные\n",
    "# строки неизменяемые\n",
    "# списки, кортежи изменяемые - можно изменить после создания, состоит из элементов\n",
    "\n",
    "boys = ['John', 'James', 'Kyle']\n",
    "girls = ['Linda', 'Jane', 'Kate']\n",
    "\n",
    "girls.sort()\n",
    "print (girls)\n",
    "print (girls.sort())\n",
    "#сортирует уже имеющийся объект\n",
    "#так делают методы неизменяемых типов данных\n",
    "\n",
    "sorted(boys)\n",
    "print (boys)\n",
    "print (sorted(boys))\n",
    "#создаёт новый объект и взаимодействует с ним\n",
    "#так делают методы изменяемых типов данных"
   ]
  },
  {
   "cell_type": "code",
   "execution_count": 46,
   "metadata": {},
   "outputs": [
    {
     "name": "stdout",
     "output_type": "stream",
     "text": [
      "[10, 20, 30, 50, 60, 40, 80]\n"
     ]
    }
   ],
   "source": [
    "my_list = [10, 20, 30, 20, 10, 50, 60, 40, 80, 50, 40]\n",
    "new_list = []\n",
    "for i in my_list:\n",
    "    if i not in new_list:\n",
    "        new_list.append(i)\n",
    "\n",
    "print (new_list)\n",
    "\n",
    "# никогда не меняйте длину объекта, во время итерации по нему (удалять, добавлять элементы)\n",
    "# создайте копию объекта и меняйте основной, пока путешествуете по новому"
   ]
  },
  {
   "cell_type": "code",
   "execution_count": 49,
   "metadata": {},
   "outputs": [
    {
     "name": "stdout",
     "output_type": "stream",
     "text": [
      "[30, 20, 10, 60, 80, 50, 40]\n"
     ]
    }
   ],
   "source": [
    "# копию списка можно создать срезом\n",
    "\n",
    "list_copy = my_list[:]\n",
    "# срез может взять исходный список не с начала - перед дробью, не до конца - после дроби и установить шаг - доп.дробь\n",
    "\n",
    "for num in list_copy:\n",
    "    if my_list.count(num) > 1:\n",
    "        my_list.remove(num)\n",
    "print (my_list)"
   ]
  },
  {
   "cell_type": "code",
   "execution_count": 54,
   "metadata": {},
   "outputs": [
    {
     "name": "stdout",
     "output_type": "stream",
     "text": [
      "103\n"
     ]
    }
   ],
   "source": [
    "data = [ \n",
    "    [13, 25, 23, 34], \n",
    "    [45, 32, 44, 47],\n",
    "    [12, 33, 23, 95],\n",
    "    [13, 53, 34, 35]\n",
    "    ]\n",
    "\n",
    "sum_ = 0\n",
    "index = 0\n",
    "\n",
    "for row in data:\n",
    "    sum_ += row[index]\n",
    "    index += 1\n",
    "print (sum_)\n",
    "# складывает элемент того же номера по порядку в каждой строке и с тем же номером подряд"
   ]
  },
  {
   "cell_type": "code",
   "execution_count": 55,
   "metadata": {},
   "outputs": [
    {
     "name": "stdout",
     "output_type": "stream",
     "text": [
      "124\n"
     ]
    }
   ],
   "source": [
    "data = [ \n",
    "    [13, 25, 23, 34], \n",
    "    [45, 32, 44, 47],\n",
    "    [12, 33, 23, 95],\n",
    "    [13, 53, 34, 35]\n",
    "    ]\n",
    "\n",
    "sum_ = 0\n",
    "index = 0\n",
    "\n",
    "for row in data:\n",
    "    sum_ += row[index-1]\n",
    "    index -= 1\n",
    "print (sum_)\n",
    "# считает обратную диагональ"
   ]
  },
  {
   "cell_type": "code",
   "execution_count": 61,
   "metadata": {},
   "outputs": [
    {
     "name": "stdout",
     "output_type": "stream",
     "text": [
      "9\n"
     ]
    }
   ],
   "source": [
    "text = 'Python — высокоуровневый язык программирования, ориентированный на повышение производительности разработчика и читаемости кода.'\n",
    "#сколько слов с количеством букв > 4\n",
    "\n",
    "sum_ = 0\n",
    "\n",
    "for word in text.split ():\n",
    "    if len(word) > 4:\n",
    "        sum_ += 1\n",
    "print (sum_)\n",
    "\n",
    "# применение метода split, к строке text, перебор тех, у которых букв больше 4"
   ]
  },
  {
   "cell_type": "code",
   "execution_count": 59,
   "metadata": {},
   "outputs": [
    {
     "data": {
      "text/plain": [
       "['Python',\n",
       " '—',\n",
       " 'высокоуровневый',\n",
       " 'язык',\n",
       " 'программирования,',\n",
       " 'ориентированный',\n",
       " 'на',\n",
       " 'повышение',\n",
       " 'производительности',\n",
       " 'разработчика',\n",
       " 'и',\n",
       " 'читаемости',\n",
       " 'кода.']"
      ]
     },
     "execution_count": 59,
     "metadata": {},
     "output_type": "execute_result"
    }
   ],
   "source": [
    "text.split()"
   ]
  },
  {
   "cell_type": "code",
   "execution_count": 66,
   "metadata": {},
   "outputs": [
    {
     "data": {
      "text/plain": [
       "['Екатеринбург', 'Москва', 'Санкт-Петербург', 'Норильск', 'Пермь', 'Астрахань']"
      ]
     },
     "execution_count": 66,
     "metadata": {},
     "output_type": "execute_result"
    }
   ],
   "source": [
    "my_list = [['Екатеринбург', 'Москва'], ['Санкт-Петербург', 'Норильск'], ['Пермь', 'Астрахань']]\n",
    "# создать флэт лист\n",
    "sum(my_list, [])\n",
    "# sum складывает числа с нулём, а мы сложим списки с пустым списком, указав питону сделать это"
   ]
  },
  {
   "cell_type": "code",
   "execution_count": 71,
   "metadata": {},
   "outputs": [
    {
     "name": "stdout",
     "output_type": "stream",
     "text": [
      "Есть общие элементы\n"
     ]
    }
   ],
   "source": [
    "list_1 = [1, 2, 3, 4, 5]\n",
    "list_2 = [5, 6, 7, 8, 9]\n",
    "\n",
    "# пример вложенного списка\n",
    "\n",
    "result = False\n",
    "for el in list_1:\n",
    "    for el_2 in list_2:\n",
    "        if el == el_2:\n",
    "            result = True\n",
    "if result:\n",
    "    print('Есть общие элементы');\n",
    "else: \n",
    "    print('Нет общих элементов')"
   ]
  },
  {
   "cell_type": "code",
   "execution_count": null,
   "metadata": {},
   "outputs": [],
   "source": [
    "# нужно узнать больше про словари\n",
    "# про списки\n",
    "# про множества\n",
    "# про функции\n",
    "# про методы"
   ]
  }
 ],
 "metadata": {
  "kernelspec": {
   "display_name": "Python 3",
   "language": "python",
   "name": "python3"
  },
  "language_info": {
   "codemirror_mode": {
    "name": "ipython",
    "version": 3
   },
   "file_extension": ".py",
   "mimetype": "text/x-python",
   "name": "python",
   "nbconvert_exporter": "python",
   "pygments_lexer": "ipython3",
   "version": "3.8.3"
  }
 },
 "nbformat": 4,
 "nbformat_minor": 4
}
